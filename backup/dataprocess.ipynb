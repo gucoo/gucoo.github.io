{
 "cells": [
  {
   "cell_type": "code",
   "execution_count": 7,
   "id": "a537caf3",
   "metadata": {},
   "outputs": [],
   "source": [
    "import pandas as pd\n",
    "#https://stackoverflow.com/questions/54383305/merge-two-csv-files-based-on-a-data-from-the-first-column\n",
    "\n",
    "# Read the files into two dataframes.\n",
    "df1 = pd.read_csv('fdata.csv')\n",
    "df2 = pd.read_csv('ref.csv')\n",
    "\n",
    "# Merge the two dataframes, using _ID column as key\n",
    "df3 = pd.merge(df1, df2, on = 'Country Code')\n",
    "#df3.set_index('ID_', inplace = True)\n",
    "df3.drop('2022', axis=1, inplace=True)\n",
    "\n",
    "\n"
   ]
  },
  {
   "cell_type": "code",
   "execution_count": 8,
   "id": "501cbf25",
   "metadata": {},
   "outputs": [],
   "source": [
    "df4=df3.melt(id_vars=[\"Country Name\", \"Country Code\",\"Indicator Name\", \"Indicator Code\",\"Region\",\"IncomeGroup\",\"SpecialNotes\",\"TableName\",\"Unnamed: 5\"], \n",
    "        var_name=\"Year\", \n",
    "        value_name=\"Value\")"
   ]
  },
  {
   "cell_type": "code",
   "execution_count": 9,
   "id": "e3da656f",
   "metadata": {},
   "outputs": [],
   "source": [
    "df3.to_csv('data.csv')"
   ]
  },
  {
   "cell_type": "code",
   "execution_count": 10,
   "id": "292c33fe",
   "metadata": {},
   "outputs": [],
   "source": [
    "df4.to_csv('data3.csv')"
   ]
  },
  {
   "cell_type": "code",
   "execution_count": 13,
   "id": "7d6b9177",
   "metadata": {},
   "outputs": [],
   "source": [
    "df5=df4.groupby(by=[\"Region\",\"Year\"])"
   ]
  },
  {
   "cell_type": "code",
   "execution_count": 17,
   "id": "18887948",
   "metadata": {},
   "outputs": [
    {
     "data": {
      "text/plain": [
       "Region               Year\n",
       "East Asia & Pacific  1960    5.882176\n",
       "                     1961    5.807882\n",
       "                     1962    5.859529\n",
       "                     1963    5.858735\n",
       "                     1964    5.765294\n",
       "                               ...   \n",
       "Sub-Saharan Africa   2017    4.489771\n",
       "                     2018    4.424167\n",
       "                     2019    4.358583\n",
       "                     2020    4.290500\n",
       "                     2021    4.227750\n",
       "Name: Value, Length: 434, dtype: float64"
      ]
     },
     "execution_count": 17,
     "metadata": {},
     "output_type": "execute_result"
    }
   ],
   "source": [
    "df5['Value'].mean()"
   ]
  },
  {
   "cell_type": "code",
   "execution_count": 26,
   "id": "72e3e44e",
   "metadata": {},
   "outputs": [],
   "source": [
    "df6=df4.groupby(by=[\"Region\",\"Year\"])['Value'].mean().reset_index()"
   ]
  },
  {
   "cell_type": "code",
   "execution_count": 27,
   "id": "2f26c382",
   "metadata": {},
   "outputs": [],
   "source": [
    "df6.to_csv('region.csv')"
   ]
  },
  {
   "cell_type": "code",
   "execution_count": null,
   "id": "3c7359d8",
   "metadata": {},
   "outputs": [],
   "source": []
  }
 ],
 "metadata": {
  "kernelspec": {
   "display_name": "Python 3 (ipykernel)",
   "language": "python",
   "name": "python3"
  },
  "language_info": {
   "codemirror_mode": {
    "name": "ipython",
    "version": 3
   },
   "file_extension": ".py",
   "mimetype": "text/x-python",
   "name": "python",
   "nbconvert_exporter": "python",
   "pygments_lexer": "ipython3",
   "version": "3.9.12"
  }
 },
 "nbformat": 4,
 "nbformat_minor": 5
}
